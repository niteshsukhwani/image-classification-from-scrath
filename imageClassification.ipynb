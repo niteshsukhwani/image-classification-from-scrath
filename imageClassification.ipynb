{
  "nbformat": 4,
  "nbformat_minor": 0,
  "metadata": {
    "colab": {
      "name": "imageClassificationShipra.ipynb",
      "provenance": [],
      "machine_shape": "hm"
    },
    "kernelspec": {
      "name": "python3",
      "display_name": "Python 3"
    },
    "accelerator": "TPU"
  },
  "cells": [
    {
      "cell_type": "code",
      "metadata": {
        "id": "72dGCWv4y8an",
        "colab_type": "code",
        "outputId": "1a85242b-994a-475e-905e-8f217723b498",
        "colab": {
          "base_uri": "https://localhost:8080/",
          "height": 122
        }
      },
      "source": [
        "#Mounting drive in colab  \n",
        "\n",
        "from google.colab import drive\n",
        "drive.mount('/content/drive')"
      ],
      "execution_count": 1,
      "outputs": [
        {
          "output_type": "stream",
          "text": [
            "Go to this URL in a browser: https://accounts.google.com/o/oauth2/auth?client_id=947318989803-6bn6qk8qdgf4n4g3pfee6491hc0brc4i.apps.googleusercontent.com&redirect_uri=urn%3Aietf%3Awg%3Aoauth%3A2.0%3Aoob&scope=email%20https%3A%2F%2Fwww.googleapis.com%2Fauth%2Fdocs.test%20https%3A%2F%2Fwww.googleapis.com%2Fauth%2Fdrive%20https%3A%2F%2Fwww.googleapis.com%2Fauth%2Fdrive.photos.readonly%20https%3A%2F%2Fwww.googleapis.com%2Fauth%2Fpeopleapi.readonly&response_type=code\n",
            "\n",
            "Enter your authorization code:\n",
            "··········\n",
            "Mounted at /content/drive\n"
          ],
          "name": "stdout"
        }
      ]
    },
    {
      "cell_type": "code",
      "metadata": {
        "id": "sOoxPJFqy2Ik",
        "colab_type": "code",
        "outputId": "16b15233-406a-47f5-e70d-804e209391fc",
        "colab": {
          "base_uri": "https://localhost:8080/",
          "height": 51
        }
      },
      "source": [
        "'''\n",
        "Unzipping good classified data\n",
        "'''\n",
        "from zipfile import ZipFile \n",
        "  \n",
        "# specifying the good file name \n",
        "file_name = \"/content/drive/My Drive/good.zip\"\n",
        "  \n",
        "# opening the zip file in READ mode \n",
        "with ZipFile(file_name, 'r') as zip: \n",
        "  \n",
        "    # extracting all the files \n",
        "    print('Extracting all the files now...') \n",
        "    zip.extractall() \n",
        "    print('Done!') "
      ],
      "execution_count": 83,
      "outputs": [
        {
          "output_type": "stream",
          "text": [
            "Extracting all the files now...\n",
            "Done!\n"
          ],
          "name": "stdout"
        }
      ]
    },
    {
      "cell_type": "code",
      "metadata": {
        "id": "HZ9KbXn4y8me",
        "colab_type": "code",
        "outputId": "37f9cdc6-8594-4001-cee9-3f7407c265fb",
        "colab": {
          "base_uri": "https://localhost:8080/",
          "height": 51
        }
      },
      "source": [
        "'''\n",
        "Unzipping bad classified data\n",
        "'''  \n",
        "# specifying the good file name \n",
        "file_name = \"/content/drive/My Drive/bad.zip\"\n",
        "  \n",
        "# opening the zip file in READ mode \n",
        "with ZipFile(file_name, 'r') as zip: \n",
        "    # extracting all the files \n",
        "    print('Extracting all the files now...') \n",
        "    zip.extractall() \n",
        "    print('Done!') "
      ],
      "execution_count": 84,
      "outputs": [
        {
          "output_type": "stream",
          "text": [
            "Extracting all the files now...\n",
            "Done!\n"
          ],
          "name": "stdout"
        }
      ]
    },
    {
      "cell_type": "code",
      "metadata": {
        "id": "mDDy82Be0zw9",
        "colab_type": "code",
        "outputId": "1432c093-2fe6-4293-9436-d90a87e76021",
        "colab": {
          "base_uri": "https://localhost:8080/",
          "height": 68
        }
      },
      "source": [
        "#reading the names of each file\n",
        "\n",
        "from os import walk\n",
        "mypath_good ='/content/good'\n",
        "mypath_bad ='/content/bad'\n",
        "good = []\n",
        "bad = []\n",
        "for (dirpath, dirnames, filenames) in walk(mypath_good):\n",
        "    good.extend(filenames)\n",
        "    break\n",
        "for (dirpath, dirnames, filenames) in walk(mypath_bad):\n",
        "    bad.extend(filenames)\n",
        "    break\n",
        "f = [good,bad]\n",
        "print(len(f))\n",
        "print(len(f[0]))\n",
        "print(len(f[1]))\n"
      ],
      "execution_count": 85,
      "outputs": [
        {
          "output_type": "stream",
          "text": [
            "2\n",
            "424\n",
            "2104\n"
          ],
          "name": "stdout"
        }
      ]
    },
    {
      "cell_type": "code",
      "metadata": {
        "id": "ZdNuAoTz1xp6",
        "colab_type": "code",
        "colab": {}
      },
      "source": [
        "import matplotlib.image as mpimg \n",
        "import cv2\n",
        "import numpy as np\n",
        "import matplotlib.pyplot as plt\n",
        "import os\n",
        "from sklearn.model_selection import train_test_split\n",
        "import tensorflow as tf\n",
        "from sklearn.metrics import confusion_matrix"
      ],
      "execution_count": 0,
      "outputs": []
    },
    {
      "cell_type": "code",
      "metadata": {
        "id": "-8Bh8jR50u5Q",
        "colab_type": "code",
        "colab": {}
      },
      "source": [
        "'''\n",
        "Loading the data into array and augmenting data using flipping\n",
        "'''\n",
        "\n",
        "def make_data(path,f,size):\n",
        "  y =[]\n",
        "  data = []\n",
        "  for i in range(len(f)):\n",
        "    if i==0:\n",
        "      mypath = path+'/good/'\n",
        "    else:\n",
        "      mypath = path+'/bad/'\n",
        "    for file in f[i]:\n",
        "      filename = mypath+file\n",
        "      x = mpimg.imread(filename)\n",
        "      x = cv2.resize(x,(size,size))\n",
        "      x = cv2.cvtColor(x, cv2.COLOR_BGR2GRAY)\n",
        "      rimg=cv2.flip(x,1)\n",
        "      rimg = rimg.astype('float32') / 255\n",
        "      data.append(rimg)\n",
        "      y.append(i)\n",
        "      x = x.astype('float32') / 255\n",
        "      data.append(x)\n",
        "\n",
        "      y.append(i)\n",
        "  data = np.array(data)\n",
        "  \n",
        "  y = np.array(y)\n",
        "  return data,y"
      ],
      "execution_count": 0,
      "outputs": []
    },
    {
      "cell_type": "code",
      "metadata": {
        "id": "WFTaaH3Z2ol5",
        "colab_type": "code",
        "colab": {}
      },
      "source": [
        "size = 64\n",
        "X,y = make_data('/content',f,size)\n"
      ],
      "execution_count": 0,
      "outputs": []
    },
    {
      "cell_type": "code",
      "metadata": {
        "id": "-PdAc0Ox3Nox",
        "colab_type": "code",
        "outputId": "75593d3a-ab47-4e92-9624-41565c848570",
        "colab": {
          "base_uri": "https://localhost:8080/",
          "height": 51
        }
      },
      "source": [
        "print('dimension of the data = ',X.shape)\n",
        "print('dimension of the data = ',y.shape)"
      ],
      "execution_count": 90,
      "outputs": [
        {
          "output_type": "stream",
          "text": [
            "dimension of the data =  (5056, 64, 64)\n",
            "dimension of the data =  (5056,)\n"
          ],
          "name": "stdout"
        }
      ]
    },
    {
      "cell_type": "code",
      "metadata": {
        "id": "MNZ5103f5aTJ",
        "colab_type": "code",
        "colab": {}
      },
      "source": [
        "X_train, X_test, y_train, y_test = train_test_split(X, y, test_size=0.2, random_state=42,stratify= y)"
      ],
      "execution_count": 0,
      "outputs": []
    },
    {
      "cell_type": "code",
      "metadata": {
        "id": "PDFG-Nqk7ABa",
        "colab_type": "code",
        "outputId": "e28f479c-793c-425d-e447-e41d19884195",
        "colab": {
          "base_uri": "https://localhost:8080/",
          "height": 85
        }
      },
      "source": [
        "print('dimension of X_training data = ',X_train.shape)\n",
        "print('dimension of X_testing data = ',X_test.shape)\n",
        "print('dimension of y_training data = ',y_train.shape)\n",
        "print('dimension of y_testing data = ',y_test.shape)"
      ],
      "execution_count": 92,
      "outputs": [
        {
          "output_type": "stream",
          "text": [
            "dimension of X_training data =  (4044, 64, 64)\n",
            "dimension of X_testing data =  (1012, 64, 64)\n",
            "dimension of y_training data =  (4044,)\n",
            "dimension of y_testing data =  (1012,)\n"
          ],
          "name": "stdout"
        }
      ]
    },
    {
      "cell_type": "code",
      "metadata": {
        "id": "aZy0g4wEaXnV",
        "colab_type": "code",
        "outputId": "7ad43ea5-3c1b-4071-a990-a1387dabe531",
        "colab": {
          "base_uri": "https://localhost:8080/",
          "height": 85
        }
      },
      "source": [
        "X_train = X_train.reshape((4044,size,size,1))\n",
        "X_test = X_test.reshape((1012,size,size,1))\n",
        "print('dimension of X_training data = ',X_train.shape)\n",
        "print('dimension of X_testing data = ',X_test.shape)\n",
        "print('dimension of y_training data = ',y_train.shape)\n",
        "print('dimension of y_testing data = ',y_test.shape)"
      ],
      "execution_count": 93,
      "outputs": [
        {
          "output_type": "stream",
          "text": [
            "dimension of X_training data =  (4044, 64, 64, 1)\n",
            "dimension of X_testing data =  (1012, 64, 64, 1)\n",
            "dimension of y_training data =  (4044,)\n",
            "dimension of y_testing data =  (1012,)\n"
          ],
          "name": "stdout"
        }
      ]
    },
    {
      "cell_type": "code",
      "metadata": {
        "id": "CAmI6dhc7ijJ",
        "colab_type": "code",
        "colab": {}
      },
      "source": [
        "from keras.models import Sequential\n",
        "from keras.layers import Conv2D\n",
        "from keras.layers import MaxPooling2D\n",
        "from keras.layers import Flatten\n",
        "from keras import regularizers\n",
        "from keras.layers import Dense"
      ],
      "execution_count": 0,
      "outputs": []
    },
    {
      "cell_type": "code",
      "metadata": {
        "id": "lLNrPMif-Ie6",
        "colab_type": "code",
        "colab": {}
      },
      "source": [
        "classifier = Sequential()\n",
        "classifier.add(Conv2D(32, (3, 3), input_shape = (size, size,1), activation = 'relu'))\n",
        "#classifier.add(Conv2D(64, (3, 3),  activation = 'relu'))\n",
        "classifier.add(MaxPooling2D(pool_size = (2, 2),strides=(2,2)))\n",
        "classifier.add(Conv2D(64, (3, 3),  activation = 'relu'))\n",
        "classifier.add(MaxPooling2D(pool_size = (2, 2),strides=(2,2)))\n",
        "classifier.add(Flatten())\n",
        "\n",
        "classifier.add(Dense(units = 10, activation = 'relu'))\n",
        "#classifier.add(Dense(units = 32, activation = 'relu'))\n",
        "classifier.add(Dense(1, activation='sigmoid', kernel_initializer='random_normal'))\n",
        "classifier.compile(optimizer = 'adam', loss = 'binary_crossentropy', metrics = ['accuracy'])"
      ],
      "execution_count": 0,
      "outputs": []
    },
    {
      "cell_type": "code",
      "metadata": {
        "id": "cdgjk247IsTh",
        "colab_type": "code",
        "outputId": "ed038ad6-d91e-4a77-e9ff-e09f32620d5b",
        "colab": {
          "base_uri": "https://localhost:8080/",
          "height": 391
        }
      },
      "source": [
        "classifier.summary()"
      ],
      "execution_count": 96,
      "outputs": [
        {
          "output_type": "stream",
          "text": [
            "Model: \"sequential_9\"\n",
            "_________________________________________________________________\n",
            "Layer (type)                 Output Shape              Param #   \n",
            "=================================================================\n",
            "conv2d_13 (Conv2D)           (None, 62, 62, 32)        320       \n",
            "_________________________________________________________________\n",
            "max_pooling2d_10 (MaxPooling (None, 31, 31, 32)        0         \n",
            "_________________________________________________________________\n",
            "conv2d_14 (Conv2D)           (None, 29, 29, 64)        18496     \n",
            "_________________________________________________________________\n",
            "max_pooling2d_11 (MaxPooling (None, 14, 14, 64)        0         \n",
            "_________________________________________________________________\n",
            "flatten_9 (Flatten)          (None, 12544)             0         \n",
            "_________________________________________________________________\n",
            "dense_17 (Dense)             (None, 10)                125450    \n",
            "_________________________________________________________________\n",
            "dense_18 (Dense)             (None, 1)                 11        \n",
            "=================================================================\n",
            "Total params: 144,277\n",
            "Trainable params: 144,277\n",
            "Non-trainable params: 0\n",
            "_________________________________________________________________\n"
          ],
          "name": "stdout"
        }
      ]
    },
    {
      "cell_type": "code",
      "metadata": {
        "id": "ixkeXZsuZd0C",
        "colab_type": "code",
        "outputId": "1c21eb62-634f-4c82-bc40-8190b92d6c4f",
        "colab": {
          "base_uri": "https://localhost:8080/",
          "height": 204
        }
      },
      "source": [
        "classifier.fit(X_train,y_train, batch_size=64, epochs=5)"
      ],
      "execution_count": 97,
      "outputs": [
        {
          "output_type": "stream",
          "text": [
            "Epoch 1/5\n",
            "4044/4044 [==============================] - 3s 684us/step - loss: 0.4774 - acc: 0.8234\n",
            "Epoch 2/5\n",
            "4044/4044 [==============================] - 2s 503us/step - loss: 0.4451 - acc: 0.8323\n",
            "Epoch 3/5\n",
            "4044/4044 [==============================] - 2s 507us/step - loss: 0.4191 - acc: 0.8323\n",
            "Epoch 4/5\n",
            "4044/4044 [==============================] - 2s 502us/step - loss: 0.3944 - acc: 0.8323\n",
            "Epoch 5/5\n",
            "4044/4044 [==============================] - 2s 498us/step - loss: 0.3856 - acc: 0.8323\n"
          ],
          "name": "stdout"
        },
        {
          "output_type": "execute_result",
          "data": {
            "text/plain": [
              "<keras.callbacks.History at 0x7fcbb31ddc50>"
            ]
          },
          "metadata": {
            "tags": []
          },
          "execution_count": 97
        }
      ]
    },
    {
      "cell_type": "code",
      "metadata": {
        "id": "KMdSBCEkjJpC",
        "colab_type": "code",
        "colab": {}
      },
      "source": [
        "y_pred=classifier.predict(X_test)\n",
        "y_pred =(y_pred>0.8)   #set threshol"
      ],
      "execution_count": 0,
      "outputs": []
    },
    {
      "cell_type": "code",
      "metadata": {
        "id": "_TfJbLMNjVWr",
        "colab_type": "code",
        "outputId": "199dddc2-61c3-4538-babc-e4f3cdbb580a",
        "colab": {
          "base_uri": "https://localhost:8080/",
          "height": 51
        }
      },
      "source": [
        "from sklearn.metrics import confusion_matrix\n",
        "cm = confusion_matrix(y_test, y_pred)\n",
        "print(cm)"
      ],
      "execution_count": 99,
      "outputs": [
        {
          "output_type": "stream",
          "text": [
            "[[ 83  87]\n",
            " [185 657]]\n"
          ],
          "name": "stdout"
        }
      ]
    },
    {
      "cell_type": "code",
      "metadata": {
        "id": "YH29IWO8aJMZ",
        "colab_type": "code",
        "outputId": "022edba3-0686-4cbf-85ab-e8ea89e0b2c1",
        "colab": {
          "base_uri": "https://localhost:8080/",
          "height": 51
        }
      },
      "source": [
        "\n",
        "from sklearn.metrics import roc_curve, auc\n",
        "from sklearn.metrics import roc_auc_score\n",
        "import sklearn.metrics as metrics\n",
        "\n",
        "fpr, tpr, thresholds = roc_curve(y_test, classifier.predict(X_test))\n",
        "auc_test = roc_auc_score(y_test, classifier.predict(X_test))\n",
        "auc_train = roc_auc_score(y_train, classifier.predict(X_train))\n",
        "print('AUC test: %.3f' % auc_test)\n",
        "print('AUC train: %.3f' % auc_train)\n",
        "roc_auc = metrics.auc(fpr, tpr)"
      ],
      "execution_count": 100,
      "outputs": [
        {
          "output_type": "stream",
          "text": [
            "AUC test: 0.746\n",
            "AUC train: 0.807\n"
          ],
          "name": "stdout"
        }
      ]
    },
    {
      "cell_type": "code",
      "metadata": {
        "id": "XZwH2u3_lo1U",
        "colab_type": "code",
        "outputId": "ca98c1b4-b00d-4465-f6ed-2a75efaec334",
        "colab": {
          "base_uri": "https://localhost:8080/",
          "height": 295
        }
      },
      "source": [
        "import matplotlib.pyplot as plt\n",
        "plt.title('Receiver Operating Characteristic')\n",
        "plt.plot(fpr, tpr, 'b', label = 'AUC = %0.2f' % roc_auc)\n",
        "plt.legend(loc = 'lower right')\n",
        "plt.plot([0, 1], [0, 1],'r--')\n",
        "plt.xlim([0, 1])\n",
        "plt.ylim([0, 1])\n",
        "plt.ylabel('True Positive Rate')\n",
        "plt.xlabel('False Positive Rate')\n",
        "plt.show()"
      ],
      "execution_count": 101,
      "outputs": [
        {
          "output_type": "display_data",
          "data": {
            "image/png": "[encoded data removed]",
            "text/plain": [
              "<Figure size 432x288 with 1 Axes>"
            ]
          },
          "metadata": {
            "tags": []
          }
        }
      ]
    },
    {
      "cell_type": "code",
      "metadata": {
        "id": "w3Bqys8ZixiQ",
        "colab_type": "code",
        "outputId": "6a68e276-a692-4b92-9fa3-a9cd99b10876",
        "colab": {
          "base_uri": "https://localhost:8080/",
          "height": 34
        }
      },
      "source": [
        "model_json = classifier.to_json()\n",
        "with open(\"model.json\", \"w\") as json_file:\n",
        "    json_file.write(model_json)\n",
        "# serialize weights to HDF5\n",
        "classifier.save_weights(\"model.h5\")\n",
        "print(\"Saved model to disk\")"
      ],
      "execution_count": 102,
      "outputs": [
        {
          "output_type": "stream",
          "text": [
            "Saved model to disk\n"
          ],
          "name": "stdout"
        }
      ]
    },
    {
      "cell_type": "code",
      "metadata": {
        "id": "2CCChYtrTfDW",
        "colab_type": "code",
        "colab": {}
      },
      "source": [
        ""
      ],
      "execution_count": 0,
      "outputs": []
    }
  ]
}